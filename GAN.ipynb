{
  "nbformat": 4,
  "nbformat_minor": 0,
  "metadata": {
    "colab": {
      "provenance": [],
      "gpuType": "T4",
      "include_colab_link": true
    },
    "kernelspec": {
      "name": "python3",
      "display_name": "Python 3"
    },
    "language_info": {
      "name": "python"
    },
    "accelerator": "GPU"
  },
  "cells": [
    {
      "cell_type": "markdown",
      "metadata": {
        "id": "view-in-github",
        "colab_type": "text"
      },
      "source": [
        "<a href=\"https://colab.research.google.com/github/aswinsuresh-04/Digital_Image_and_Video_Processing-Lab/blob/main/GAN.ipynb\" target=\"_parent\"><img src=\"https://colab.research.google.com/assets/colab-badge.svg\" alt=\"Open In Colab\"/></a>"
      ]
    },
    {
      "cell_type": "code",
      "execution_count": 1,
      "metadata": {
        "id": "Zv44VfUibfVU"
      },
      "outputs": [],
      "source": [
        "import torch\n",
        "from torch import nn\n",
        "import math\n",
        "import matplotlib.pyplot as plt\n",
        "import torchvision.transforms as transforms\n",
        "import torchvision.datasets as datasets\n",
        "from torch.utils.data import  DataLoader\n",
        "import torch.nn.functional as f\n",
        "\n",
        "device = 'cuda'\n",
        "\n"
      ]
    },
    {
      "cell_type": "code",
      "source": [
        "batch_size = 32\n",
        "\n",
        "transform = transforms.Compose([transforms.ToTensor(), transforms.Normalize((0.5,),(0.5,))])\n",
        "\n",
        "trainset = datasets.MNIST(root = './root', train = True, download = True, transform = transform)\n",
        "trainloader = DataLoader(trainset, batch_size = batch_size, shuffle = True)\n"
      ],
      "metadata": {
        "id": "yRrbJYjFcFe6",
        "collapsed": true,
        "outputId": "6251f909-c277-44a4-c235-8119a52f0d88",
        "colab": {
          "base_uri": "https://localhost:8080/"
        }
      },
      "execution_count": 2,
      "outputs": [
        {
          "output_type": "stream",
          "name": "stderr",
          "text": [
            "100%|██████████| 9.91M/9.91M [00:01<00:00, 5.04MB/s]\n",
            "100%|██████████| 28.9k/28.9k [00:00<00:00, 133kB/s]\n",
            "100%|██████████| 1.65M/1.65M [00:01<00:00, 1.27MB/s]\n",
            "100%|██████████| 4.54k/4.54k [00:00<00:00, 8.53MB/s]\n"
          ]
        }
      ]
    },
    {
      "cell_type": "code",
      "source": [],
      "metadata": {
        "id": "vKv58gkYdKga",
        "collapsed": true
      },
      "execution_count": 2,
      "outputs": []
    },
    {
      "cell_type": "code",
      "source": [
        "class Discriminator(nn.Module):\n",
        "  def __init__(self):\n",
        "    super().__init__()\n",
        "    self.model = nn.Sequential(\n",
        "        nn.Linear(784, 2048),\n",
        "        nn.ReLU(),\n",
        "        nn.Dropout(0.3),\n",
        "        nn.Linear(2048, 1024),\n",
        "        nn.ReLU(),\n",
        "        nn.Dropout(0.3),\n",
        "        nn.Linear(1024, 512),\n",
        "        nn.ReLU(),\n",
        "        nn.Dropout(0.3),\n",
        "        nn.Linear(512, 256),\n",
        "        nn.ReLU(),\n",
        "        nn.Dropout(0.3),\n",
        "        nn.Linear(256, 1),\n",
        "        nn.Sigmoid(),\n",
        "    )\n",
        "\n",
        "  def forward(self, x):\n",
        "    x = x.view(x.size(0), 784)\n",
        "    output = self.model(x)\n",
        "\n",
        "\n",
        "\n",
        "discriminator = Discriminator().to(device = device)\n"
      ],
      "metadata": {
        "id": "N6js0V45g9ai"
      },
      "execution_count": 3,
      "outputs": []
    },
    {
      "cell_type": "code",
      "source": [
        "class Generator(nn.Module):\n",
        "  def __init__(self):\n",
        "    super().__init__()\n",
        "    self.model = nn.Sequential(\n",
        "        nn.Linear(100, 256),\n",
        "        nn.ReLU(),\n",
        "        nn.Linear(256, 512),\n",
        "        nn.ReLU(),\n",
        "        nn.Linear(512, 1024),\n",
        "        nn.ReLU(),\n",
        "        nn.Linear(1024,784 ),\n",
        "        nn.Tanh(),\n",
        "    )\n",
        "  def forward(self , x):\n",
        "    output = self.model(x)\n",
        "    output = output.view(x.size(0), 1, 28, 28)\n",
        "    return output\n",
        "\n",
        "generator = Generator().to(device = device)\n",
        "\n"
      ],
      "metadata": {
        "id": "A12RZ-rQjUsv"
      },
      "execution_count": 4,
      "outputs": []
    },
    {
      "cell_type": "code",
      "source": [
        "lr = 0.0001\n",
        "epoch = 50\n",
        "loss_function = nn.BCELoss()\n",
        "\n",
        "optimizer_discriminator = torch.optim.Adam(discriminator.parameters(), lr = lr)\n",
        "optimizer_generator = torch.optim.Adam(generator.parameters(), lr = lr)"
      ],
      "metadata": {
        "id": "b5UKHvuinBoW"
      },
      "execution_count": 5,
      "outputs": []
    },
    {
      "cell_type": "code",
      "source": [
        "for epoch in range(epoch):\n",
        "  for n, (samples, _) in enumerate(trainloader):\n",
        "    samples = samples.to(device)\n",
        "    sample_labels = torch.ones((batch_size, 1)).to(device)\n",
        "    latent_space_samples = torch.randn((batch_size, 100)).to(device)\n",
        "    generated_samples = generator(latent_space_samples)\n",
        "    generated_samples_labels = torch.zeros((32, 1))\n",
        "    labels = torch.ones((batch_size, 1))\n",
        "\n",
        "    all_samples = torch.cat((samples, generated_samples))\n",
        "    all_labels = torch.cat((labels, generated_samples_labels))\n",
        "\n",
        "    #training the discriminator\n",
        "    discriminator.zero_grad()\n",
        "    output_discriminator = discriminator(all_samples)\n",
        "    loss_discriminator = loss_function(input = output_discriminator, target = all_labels)\n",
        "    loss_discriminator.backward()\n",
        "    optimizer_discriminator.step()\n",
        "\n",
        "    #data for training the generator\n",
        "    latent_space_samples = torch.randn((batch_size, 100)).to(device)\n",
        "\n",
        "    #training the generator\n",
        "    generator.zero_grad()\n",
        "    generated_samples = generator(latent_space_samples)\n",
        "    output_discriminator = discriminator(generated_samples)\n",
        "    loss_generator = loss_function(output_discriminator, labels)\n",
        "    loss_generator.backward()\n",
        "    optimizer_generator.step()\n",
        "\n",
        "\n",
        "    if n == batch_size - 1:\n",
        "      print(f'epoch : {epoch} decriminated loss : {loss_discriminator}')\n",
        "      print(f'epoch : {epoch} generator loss : {loss_generator}')\n",
        "\n"
      ],
      "metadata": {
        "id": "L1YiPJh8ni7k"
      },
      "execution_count": 7,
      "outputs": []
    },
    {
      "cell_type": "code",
      "source": [
        "for epoch in range(epoch):\n",
        "    for n, (real_samples, _) in enumerate(trainloader):\n",
        "        real_samples = real_samples.to(device)\n",
        "        real_labels = torch.ones((real_samples.size(0), 1)).to(device)\n",
        "        batch_size = real_samples.size(0)\n",
        "\n",
        "        # Generate fake samples\n",
        "        latent_space_samples = torch.randn((batch_size, 100)).to(device)\n",
        "        fake_samples = generator(latent_space_samples)\n",
        "        fake_labels = torch.zeros((batch_size, 1)).to(device)\n",
        "\n",
        "        # Combine real and fake samples\n",
        "        all_samples = torch.cat((real_samples, fake_samples))\n",
        "        all_labels = torch.cat((real_labels, fake_labels))\n",
        "\n",
        "        # Train the discriminator\n",
        "        discriminator.zero_grad()\n",
        "        output_discriminator = discriminator(all_samples)\n",
        "        loss_discriminator = loss_function(output_discriminator, all_labels)\n",
        "        loss_discriminator.backward()\n",
        "        optimizer_discriminator.step()\n",
        "\n",
        "        # Generate new latent space samples\n",
        "        latent_space_samples = torch.randn((batch_size, 100)).to(device)\n",
        "\n",
        "        # Train the generator\n",
        "        generator.zero_grad()\n",
        "        generated_samples = generator(latent_space_samples)\n",
        "        output_discriminator_on_generated = discriminator(generated_samples)\n",
        "        loss_generator = loss_function(output_discriminator_on_generated, real_labels)  # Use real labels for generator training\n",
        "        loss_generator.backward()\n",
        "        optimizer_generator.step()\n",
        "\n",
        "        if n % print_interval == 0:\n",
        "            print(f'Epoch [{epoch}/{num_epochs}], Batch [{n}/{len(trainloader)}]')\n",
        "            print(f'Discriminator Loss: {loss_discriminator.item()}')\n",
        "            print(f'Generator Loss: {loss_generator.item()}')\n",
        "print('i am aswin')"
      ],
      "metadata": {
        "id": "oWZxHkCkFies",
        "outputId": "1259e4f9-a5ee-4108-a3a5-95224aa2dda2",
        "colab": {
          "base_uri": "https://localhost:8080/"
        }
      },
      "execution_count": 9,
      "outputs": [
        {
          "output_type": "stream",
          "name": "stdout",
          "text": [
            "i am aswin\n"
          ]
        }
      ]
    }
  ]
}